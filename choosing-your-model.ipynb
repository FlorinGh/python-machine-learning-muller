{
 "cells": [
  {
   "cell_type": "markdown",
   "metadata": {},
   "source": [
    "# How to chose your training model?"
   ]
  },
  {
   "cell_type": "markdown",
   "metadata": {},
   "source": [
    "## Supervised learning:"
   ]
  },
  {
   "cell_type": "markdown",
   "metadata": {},
   "source": [
    "### k Nearest Neighbors:\n",
    "\n",
    "**PRO**:\n",
    "* the model is easy to understand\n",
    "* gives reasonable performance without a lot of adjustments\n",
    "* use this algorithm a starting point (a baseline method)  before considering more advanced techniques\n",
    "\n",
    "**AGAINST**:\n",
    "* when the training set is very large, prediction can be slow (this is beacause prediction is running on the actual data)\n",
    "* most of the times the data needs preprocessing\n",
    "* does not perform well on sparse data sets (where features have a lot of zero values)\n",
    "* in practice we usualy have a lot of features so this algorithm is not used that often\n",
    "\n",
    "**CONCLUSION**: Try this algorithm as a first model to have an understanding of the data set; keep the score as a baseline and compare with more complex techniques."
   ]
  },
  {
   "cell_type": "markdown",
   "metadata": {},
   "source": [
    "### Linear Models:\n",
    "\n",
    "**PRO**:\n",
    "* something\n",
    "\n",
    "**AGAINST**:\n",
    "* something else\n",
    "\n",
    "**CONCLUSION**: Use it or loose it."
   ]
  },
  {
   "cell_type": "markdown",
   "metadata": {},
   "source": [
    "### Model:\n",
    "\n",
    "**PRO**:\n",
    "* something\n",
    "\n",
    "**AGAINST**:\n",
    "* something else\n",
    "\n",
    "**CONCLUSION**: Use it or loose it."
   ]
  },
  {
   "cell_type": "code",
   "execution_count": null,
   "metadata": {},
   "outputs": [],
   "source": []
  },
  {
   "cell_type": "code",
   "execution_count": null,
   "metadata": {},
   "outputs": [],
   "source": []
  },
  {
   "cell_type": "code",
   "execution_count": null,
   "metadata": {},
   "outputs": [],
   "source": []
  }
 ],
 "metadata": {
  "kernelspec": {
   "display_name": "Python 3",
   "language": "python",
   "name": "python3"
  },
  "language_info": {
   "codemirror_mode": {
    "name": "ipython",
    "version": 3
   },
   "file_extension": ".py",
   "mimetype": "text/x-python",
   "name": "python",
   "nbconvert_exporter": "python",
   "pygments_lexer": "ipython3",
   "version": "3.6.4"
  }
 },
 "nbformat": 4,
 "nbformat_minor": 2
}
